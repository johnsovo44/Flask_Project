{
 "cells": [
  {
   "cell_type": "markdown",
   "metadata": {
    "toc": true
   },
   "source": [
    "<h1>Table of Contents<span class=\"tocSkip\"></span></h1>\n",
    "<div class=\"toc\"><ul class=\"toc-item\"><li><span><a href=\"#SpongeBob-Flask-Project\" data-toc-modified-id=\"SpongeBob-Flask-Project-1\"><span class=\"toc-item-num\">1&nbsp;&nbsp;</span>SpongeBob Flask Project</a></span><ul class=\"toc-item\"><li><span><a href=\"#Making-a-static-site\" data-toc-modified-id=\"Making-a-static-site-1.1\"><span class=\"toc-item-num\">1.1&nbsp;&nbsp;</span>Making a static site</a></span></li><li><span><a href=\"#Get-user-input\" data-toc-modified-id=\"Get-user-input-1.2\"><span class=\"toc-item-num\">1.2&nbsp;&nbsp;</span>Get user input</a></span></li></ul></li></ul></div>"
   ]
  },
  {
   "cell_type": "markdown",
   "metadata": {},
   "source": [
    "# SpongeBob Flask Project"
   ]
  },
  {
   "cell_type": "code",
   "execution_count": null,
   "metadata": {
    "ExecuteTime": {
     "end_time": "2019-07-23T15:25:30.853522Z",
     "start_time": "2019-07-23T15:25:30.831959Z"
    },
    "init_cell": true
   },
   "outputs": [],
   "source": [
    "def spongebobTextGenerator(text):\n",
    "    \"\"\"\n",
    "    This function will convert text into a popular\n",
    "    sponge bob text format: \"Look I made a Flask App\"\n",
    "    \"\"\"\n",
    "    count = -1\n",
    "    string = \"\"\n",
    "    for i in text:\n",
    "        if i.isalpha():\n",
    "            count += 1\n",
    "            if count % 2 == 0:\n",
    "                string += i.upper()\n",
    "            else:\n",
    "                string += i.lower()\n",
    "        else:\n",
    "            string += i\n",
    "    return string"
   ]
  },
  {
   "cell_type": "markdown",
   "metadata": {},
   "source": [
    "## Making a static site"
   ]
  },
  {
   "cell_type": "code",
   "execution_count": null,
   "metadata": {
    "ExecuteTime": {
     "end_time": "2019-07-23T15:25:33.842608Z",
     "start_time": "2019-07-23T15:25:33.672124Z"
    },
    "init_cell": true
   },
   "outputs": [],
   "source": [
    "from flask import Flask\n",
    "# importing the flask framework into your code"
   ]
  },
  {
   "cell_type": "code",
   "execution_count": null,
   "metadata": {
    "ExecuteTime": {
     "end_time": "2019-07-23T15:21:08.803697Z",
     "start_time": "2019-07-23T15:21:08.794610Z"
    },
    "init_cell": true
   },
   "outputs": [],
   "source": [
    "app = Flask(__name__)\n",
    "# this initializes the app\n",
    "# and manage the different things our website can do."
   ]
  },
  {
   "cell_type": "markdown",
   "metadata": {
    "ExecuteTime": {
     "end_time": "2019-07-23T15:04:51.148613Z",
     "start_time": "2019-07-23T15:04:08.561609Z"
    }
   },
   "source": [
    "```python\n",
    "# this function takes no parameters just returns our string\n",
    "# the decorator turns this into a \"route\"\n",
    "# it just ensures the website runs and our string shows up\n",
    "@app.route('/', endpoint = 'hello_world')\n",
    "def hello_world():\n",
    "    return spongebobTextGenerator('Look I made a flask app')\n",
    "\n",
    "if __name__ == '__main__':\n",
    "    app.run(host='0.0.0.0')\n",
    "# this says run this code only if I ran it as opposed to another script.\n",
    "# then it runs the app on local host.\n",
    "```"
   ]
  },
  {
   "cell_type": "markdown",
   "metadata": {},
   "source": [
    "```python\n",
    "# you can also do this in your decorator\n",
    "@app.route('/test',endpoint = 'testing')\n",
    "def testing():\n",
    "    return 'test'\n",
    "```\n",
    "and your local host will show test if we type in 'localhost:5000/test'"
   ]
  },
  {
   "cell_type": "markdown",
   "metadata": {},
   "source": [
    "## Get user input"
   ]
  },
  {
   "cell_type": "code",
   "execution_count": null,
   "metadata": {
    "ExecuteTime": {
     "start_time": "2019-07-23T15:21:08.527Z"
    }
   },
   "outputs": [],
   "source": [
    "@app.route('/hello/<name>',endpoint = 'hello_name')\n",
    "def hello_name(name):\n",
    "    return f'Hello {name}!'\n",
    "\n",
    "if __name__ == '__main__':\n",
    "    app.run(host='0.0.0.0')"
   ]
  },
  {
   "cell_type": "code",
   "execution_count": null,
   "metadata": {},
   "outputs": [],
   "source": []
  }
 ],
 "metadata": {
  "kernelspec": {
   "display_name": "Python 3",
   "language": "python",
   "name": "python3"
  },
  "language_info": {
   "codemirror_mode": {
    "name": "ipython",
    "version": 3
   },
   "file_extension": ".py",
   "mimetype": "text/x-python",
   "name": "python",
   "nbconvert_exporter": "python",
   "pygments_lexer": "ipython3",
   "version": "3.7.1"
  },
  "toc": {
   "base_numbering": 1,
   "nav_menu": {},
   "number_sections": true,
   "sideBar": true,
   "skip_h1_title": false,
   "title_cell": "Table of Contents",
   "title_sidebar": "Contents",
   "toc_cell": true,
   "toc_position": {},
   "toc_section_display": true,
   "toc_window_display": false
  },
  "varInspector": {
   "cols": {
    "lenName": 16,
    "lenType": 16,
    "lenVar": 40
   },
   "kernels_config": {
    "python": {
     "delete_cmd_postfix": "",
     "delete_cmd_prefix": "del ",
     "library": "var_list.py",
     "varRefreshCmd": "print(var_dic_list())"
    },
    "r": {
     "delete_cmd_postfix": ") ",
     "delete_cmd_prefix": "rm(",
     "library": "var_list.r",
     "varRefreshCmd": "cat(var_dic_list()) "
    }
   },
   "types_to_exclude": [
    "module",
    "function",
    "builtin_function_or_method",
    "instance",
    "_Feature"
   ],
   "window_display": false
  }
 },
 "nbformat": 4,
 "nbformat_minor": 2
}
